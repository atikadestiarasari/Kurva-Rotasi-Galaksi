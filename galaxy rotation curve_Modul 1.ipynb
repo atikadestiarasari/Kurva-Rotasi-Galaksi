{
 "cells": [
  {
   "cell_type": "code",
   "execution_count": 34,
   "metadata": {},
   "outputs": [],
   "source": [
    "import numpy as np\n",
    "import matplotlib.pyplot as plt"
   ]
  },
  {
   "cell_type": "code",
   "execution_count": 35,
   "metadata": {},
   "outputs": [
    {
     "data": {
      "text/plain": [
       "((21,), (21,))"
      ]
     },
     "execution_count": 35,
     "metadata": {},
     "output_type": "execute_result"
    }
   ],
   "source": [
    "r = np.array([-.25, -.75, -1., -2., -3., -3.25, -3.50, -3.75, -4.75, -9., \n",
    "              -10.75, -18., 1.75, 4., 5.25, 5.50, 6.,6.50, 7.75, 12., 15.])\n",
    "lamd_obs = np.array([6621.2, 6621.1, 6621., 6620.5, 6620.4, 6620.3, 6620.4,\n",
    "                     6620.2, 6619.9, 6619.4, 6619.2, 6618.7, 6622.2, 6622.8,\n",
    "                     6622.9, 6623.2, 6623.2, 6623.3, 6623.5, 6623.8, 6624.0])\n",
    "#            toward us, will be defined to benegative (r<0) and radii on the receding side \n",
    "    \n",
    "r.shape, lamd_obs.shape"
   ]
  },
  {
   "cell_type": "code",
   "execution_count": 36,
   "metadata": {},
   "outputs": [],
   "source": [
    "lamd_rest = 6563.0\n",
    "vrec = 2675\n",
    "c = 3e5\n",
    "i = 82\n",
    "G = 1.33e11 \n",
    "r_km = r * 3.08e16\n",
    "\n",
    "vlos =(lamd_obs - lamd_rest)*c / lamd_rest\n",
    "vrot = (vlos - vrec)/(np.sin(np.deg2rad(i)))\n",
    "\n",
    "m=vrot**2 * np.abs(r_km) / G"
   ]
  },
  {
   "cell_type": "code",
   "execution_count": 37,
   "metadata": {},
   "outputs": [
    {
     "data": {
      "text/plain": [
       "Text(0, 0.5, 'Vrotation (km/s)')"
      ]
     },
     "execution_count": 37,
     "metadata": {},
     "output_type": "execute_result"
    },
    {
     "data": {
      "image/png": "[encoded data removed]",
      "text/plain": [
       "<Figure size 432x288 with 1 Axes>"
      ]
     },
     "metadata": {
      "needs_background": "light"
     },
     "output_type": "display_data"
    }
   ],
   "source": [
    "plt.scatter(np.abs(r), np.abs(vrot))\n",
    "plt.title('Rotation Curve')\n",
    "plt.xlabel('radius (kpc)')\n",
    "plt.ylabel('Vrotation (km/s)')"
   ]
  },
  {
   "cell_type": "code",
   "execution_count": 38,
   "metadata": {},
   "outputs": [
    {
     "name": "stdout",
     "output_type": "stream",
     "text": [
      "Total Mass=  2.62e+11  Msun \n"
     ]
    }
   ],
   "source": [
    "m_tot = np.sum(m)\n",
    "print (\"Total Mass= \", format(mtot,\"1.2e\"),\" Msun \")"
   ]
  },
  {
   "cell_type": "code",
   "execution_count": 39,
   "metadata": {},
   "outputs": [
    {
     "name": "stdout",
     "output_type": "stream",
     "text": [
      "Mass dark matter =  2.62e+11  Msun \n"
     ]
    }
   ],
   "source": [
    "m_star = 3.8e9 \n",
    "m_gas = 6.5e9\n",
    "m_dm = m_tot - m_star - m_gas\n",
    "\n",
    "print (\"Mass dark matter = \", format(mtot,\"1.2e\"),\" Msun \")"
   ]
  },
  {
   "cell_type": "code",
   "execution_count": 40,
   "metadata": {},
   "outputs": [
    {
     "name": "stdout",
     "output_type": "stream",
     "text": [
      "Percentage =  96.07177954549722  % \n"
     ]
    }
   ],
   "source": [
    "percentage = (m_dm / m_tot) * 100\n",
    "\n",
    "print (\"Percentage = \" , format(percentage), \" % \") "
   ]
  },
  {
   "cell_type": "code",
   "execution_count": 41,
   "metadata": {},
   "outputs": [
    {
     "name": "stdout",
     "output_type": "stream",
     "text": [
      "Ratio =  24.456819737643237  % \n"
     ]
    }
   ],
   "source": [
    "ratio = m_dm / (m_star + m_gas)\n",
    "\n",
    "print (\"Ratio = \", format(ratio),\" % \")"
   ]
  },
  {
   "cell_type": "code",
   "execution_count": null,
   "metadata": {},
   "outputs": [],
   "source": []
  }
 ],
 "metadata": {
  "kernelspec": {
   "display_name": "Python 3",
   "language": "python",
   "name": "python3"
  },
  "language_info": {
   "codemirror_mode": {
    "name": "ipython",
    "version": 3
   },
   "file_extension": ".py",
   "mimetype": "text/x-python",
   "name": "python",
   "nbconvert_exporter": "python",
   "pygments_lexer": "ipython3",
   "version": "3.7.3"
  }
 },
 "nbformat": 4,
 "nbformat_minor": 2
}
